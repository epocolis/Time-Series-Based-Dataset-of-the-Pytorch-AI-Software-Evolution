{
 "cells": [
  {
   "cell_type": "code",
   "execution_count": 194,
   "id": "1e2f1453",
   "metadata": {},
   "outputs": [],
   "source": [
    "import more_itertools as mit\n",
    "from strip_ansi import strip_ansi\n",
    "import pandas as pd\n",
    "import glob"
   ]
  },
  {
   "cell_type": "markdown",
   "id": "4fda21e3",
   "metadata": {},
   "source": [
    "## Generate Cyclomatic Complexity data"
   ]
  },
  {
   "cell_type": "code",
   "execution_count": 200,
   "id": "39d0ecff",
   "metadata": {},
   "outputs": [],
   "source": [
    "# convert the release date to datetime\n",
    "def convert_release_date_to_datetime():\n",
    "    raw_final_df['date_time'] = pd.to_datetime(raw_final_df[\"release_date\"], format='%a %b %d %H:%M:%S %Y')\n",
    "    raw_final_df.set_index('date_time', inplace=True)\n",
    "    raw_final_df.info()\n",
    "\n",
    "\n",
    "def save_data_to_file(dataframe, file_path): \n",
    "    # save the metrics \n",
    "    dataframe.to_csv(file_path) \n",
    "\n",
    "\n",
    "def get_cc_metrics_dict(line): \n",
    "    line = line.split(\" \")\n",
    "    block_type = line[0]\n",
    "    name = line[2] \n",
    "    cc_score = line[4]\n",
    "    return {\"cc_score\": cc_score, \"block_name\": name, \"block_type\": block_type  } \n",
    "    \n",
    "def get_release_version_date(file_name): \n",
    "    tmp_lst = file_name.split(\"_\")[2:7]\n",
    "    version_date = \" \".join(tmp_lst)\n",
    "    return version_date\n",
    "    \n",
    "\n",
    "def get_release_version_name(file_name): \n",
    "    tmp_lst = file_name.split(\"_\")[1]\n",
    "    version_date = \"\".join(tmp_lst)\n",
    "    return version_date   \n",
    "\n",
    "\n",
    "def convert_cc_metrics_to_dataframe(all_metrics_list):\n",
    "    df = pd.DataFrame(all_metrics_list)\n",
    "    return df\n",
    "\n",
    "def convert_mi_metrics_to_dataframe(all_metrics_list): \n",
    "    df = pd.DataFrame(all_metrics_list)\n",
    "    return df"
   ]
  },
  {
   "cell_type": "code",
   "execution_count": 196,
   "id": "62084039",
   "metadata": {},
   "outputs": [],
   "source": [
    "def create_dataframe(file_name,template_metrics_dict): \n",
    "    release_version_date = get_release_version_date(file_name)\n",
    "    cnt = 0 \n",
    "    metric_code = \"cyclomatic_complexity\"\n",
    "    all_metrics_list = [] \n",
    "    FIRST = True\n",
    "    with open(file_name, 'r', encoding=\"utf-8\") as f:\n",
    "        release_version_date = get_release_version_date(file_name)\n",
    "        version_name =  get_release_version_name(file_name)\n",
    "        start = True\n",
    "        lines = f.readlines()\n",
    "        for line in lines: \n",
    "            if \"../\" in line:\n",
    "                if FIRST: \n",
    "                    metrics_dict = {}\n",
    "                    FIRST = False\n",
    "                else:     \n",
    "                    all_metrics_list.append(metrics_dict)\n",
    "                    metrics_dict = {}\n",
    "                # create a new dict for this files\n",
    "                metrics_dict = {} \n",
    "                metrics_dict.update(template_metrics_dict)\n",
    "                metrics_dict[\"parent_file\"] = line.replace(\"\\n\",\"\") \n",
    "                metrics_dict[\"release_date\"] = release_version_date\n",
    "                metrics_dict[\"version_name\"] = version_name \n",
    "                \n",
    "            else: \n",
    "                # just append the other lines to\n",
    "                # this list \n",
    "                line = strip_ansi(line).strip()\n",
    "                metrics_dict.update(get_cc_metrics_dict(line))\n",
    "                metrics_dict[\"metrics_code\"] = metric_code\n",
    "                \n",
    "            \n",
    "    cc_metrics_df = convert_cc_metrics_to_dataframe(all_metrics_list) \n",
    "    return cc_metrics_df\n",
    "\n",
    "\n",
    "\n",
    " \n",
    "           \n"
   ]
  },
  {
   "cell_type": "code",
   "execution_count": 239,
   "id": "2464493d",
   "metadata": {},
   "outputs": [],
   "source": [
    "folder_path = \"cc_*.txt\"\n",
    "df_lst = [] \n",
    "template_metrics_dict = {} \n",
    "for file_name in glob.glob(folder_path):\n",
    "    df = create_dataframe(file_name,template_metrics_dict)\n",
    "    df_lst.append(df)\n",
    "    \n",
    "\n",
    "cc_final_df = pd.concat(df_lst) \n"
   ]
  },
  {
   "cell_type": "code",
   "execution_count": 240,
   "id": "3aabe6d5",
   "metadata": {},
   "outputs": [
    {
     "name": "stdout",
     "output_type": "stream",
     "text": [
      "<class 'pandas.core.frame.DataFrame'>\n",
      "DatetimeIndex: 235944 entries, 2022-05-24 17:21:45 to 2022-08-02 19:50:01\n",
      "Data columns (total 7 columns):\n",
      " #   Column        Non-Null Count   Dtype \n",
      "---  ------        --------------   ----- \n",
      " 0   parent_file   235944 non-null  object\n",
      " 1   release_date  235944 non-null  object\n",
      " 2   version_name  235944 non-null  object\n",
      " 3   cc_score      235944 non-null  object\n",
      " 4   block_name    235944 non-null  object\n",
      " 5   block_type    235944 non-null  object\n",
      " 6   metrics_code  235944 non-null  object\n",
      "dtypes: object(7)\n",
      "memory usage: 14.4+ MB\n"
     ]
    }
   ],
   "source": [
    "cc_final_df['date_time'] = pd.to_datetime(cc_final_df[\"release_date\"], format='%a %b %d %H:%M:%S %Y')\n",
    "cc_final_df.set_index('date_time', inplace=True)\n",
    "cc_final_df.info()"
   ]
  },
  {
   "cell_type": "code",
   "execution_count": 241,
   "id": "a72ce318",
   "metadata": {},
   "outputs": [],
   "source": [
    "# save the metrics \n",
    "cc_metrics_file_path=\"cyclomatic_complexity_dataset.csv\"\n",
    "cc_final_df.to_csv(cc_metrics_file_path) "
   ]
  },
  {
   "cell_type": "code",
   "execution_count": null,
   "id": "ce5bf342",
   "metadata": {},
   "outputs": [],
   "source": []
  },
  {
   "cell_type": "markdown",
   "id": "2556c09c",
   "metadata": {},
   "source": [
    "## Generate Maintainability Index data"
   ]
  },
  {
   "cell_type": "code",
   "execution_count": 176,
   "id": "7765291a",
   "metadata": {},
   "outputs": [],
   "source": [
    "def create_mi_dataframe(file_name,metrics_dict): \n",
    "    release_version_date = get_release_version_date(file_name)\n",
    "    cnt = 0 \n",
    "    metric_code = \"maintainability_index\"\n",
    "    all_metrics_list = [] \n",
    "    \n",
    "    with open(file_name, 'r', encoding=\"utf-8\") as f:\n",
    "        release_version_date = get_release_version_date(file_name)\n",
    "        version_name =  get_release_version_name(file_name)\n",
    "        start = True\n",
    "        lines = f.readlines()\n",
    "        for line in lines: \n",
    "            line = strip_ansi(line).strip()\n",
    "            parent_file = line.split(\"-\")[0]\n",
    "            mi_score = line.split(\"-\")[1]\n",
    "            metrics_dict.update(template_metrics_dict)\n",
    "            metrics_dict[\"parent_file\"] = parent_file \n",
    "            metrics_dict[\"release_date\"] = release_version_date\n",
    "            metrics_dict[\"version_name\"] = version_name \n",
    "            metrics_dict[\"metrics_code\"] = metric_code\n",
    "            \n",
    "           \n",
    "            \n",
    "            metrics_dict[\"mi_score\"]  = mi_score\n",
    "            all_metrics_list.append(metrics_dict)    \n",
    "            \n",
    "    mi_metrics_df = convert_mi_metrics_to_dataframe(all_metrics_list) \n",
    "    return mi_metrics_df\n",
    "    "
   ]
  },
  {
   "cell_type": "code",
   "execution_count": 177,
   "id": "d56401af",
   "metadata": {},
   "outputs": [],
   "source": [
    "folder_path = \"mi_*.txt\"\n",
    "mi_df_lst = [] \n",
    "template_metrics_dict = {} \n",
    "for file_name in glob.glob(folder_path):\n",
    "    df = create_mi_dataframe(file_name,template_metrics_dict)\n",
    "    mi_df_lst.append(df)\n",
    "    \n",
    "\n",
    "mi_final_df = pd.concat(mi_df_lst) \n"
   ]
  },
  {
   "cell_type": "code",
   "execution_count": 237,
   "id": "23bfe274",
   "metadata": {},
   "outputs": [
    {
     "name": "stdout",
     "output_type": "stream",
     "text": [
      "<class 'pandas.core.frame.DataFrame'>\n",
      "DatetimeIndex: 231603 entries, 2022-02-24 11:37:42 to 2022-08-02 19:50:01\n",
      "Data columns (total 5 columns):\n",
      " #   Column        Non-Null Count   Dtype \n",
      "---  ------        --------------   ----- \n",
      " 0   parent_file   231603 non-null  object\n",
      " 1   release_date  231603 non-null  object\n",
      " 2   version_name  231603 non-null  object\n",
      " 3   metrics_code  231603 non-null  object\n",
      " 4   mi_score      231603 non-null  object\n",
      "dtypes: object(5)\n",
      "memory usage: 10.6+ MB\n"
     ]
    }
   ],
   "source": [
    "mi_final_df['date_time'] = pd.to_datetime(mi_final_df[\"release_date\"], format='%a %b %d %H:%M:%S %Y')\n",
    "mi_final_df.set_index('date_time', inplace=True)\n",
    "mi_final_df.info()"
   ]
  },
  {
   "cell_type": "code",
   "execution_count": 201,
   "id": "b89a6490",
   "metadata": {},
   "outputs": [],
   "source": [
    "save_data_to_file(mi_final_df, \"maintainability_index_dataset.csv\")"
   ]
  },
  {
   "cell_type": "markdown",
   "id": "eb424c20",
   "metadata": {},
   "source": [
    "## Generate Raw Metrics data"
   ]
  },
  {
   "cell_type": "code",
   "execution_count": 191,
   "id": "5c6904ca",
   "metadata": {},
   "outputs": [],
   "source": [
    "def create_raw_dataframe(file_name,template_metrics_dict): \n",
    "    release_version_date = get_release_version_date(file_name)\n",
    "    version_name =  get_release_version_name(file_name)\n",
    "   \n",
    "    \n",
    "    cnt = 0 \n",
    "    metric_code = \"raw_metrics\"\n",
    "    all_metrics_list = [] \n",
    "    FIRST = True\n",
    "    \n",
    "    with open(file_name, 'r', encoding=\"utf-8\") as f:\n",
    "        for line in f: \n",
    "            if \"../\" in line:\n",
    "                if FIRST: \n",
    "                    metrics_dict = {}\n",
    "                    FIRST = False\n",
    "                else:     \n",
    "                    all_metrics_list.append(metrics_dict)\n",
    "                    metrics_dict = {}\n",
    "                line = strip_ansi(line).strip()\n",
    "                parent_file = line.split(\"-\")[0]\n",
    "                metrics_dict[\"parent_file\"] = parent_file.split(\"/\")[-1]\n",
    "                metrics_dict[\"release_date\"] = release_version_date\n",
    "                metrics_dict[\"version_name\"] = version_name \n",
    "            else:\n",
    "                if \"-\" not in line:\n",
    "                    lst = line.split(\":\")\n",
    "                    metric_name = lst[0].replace(\"\\n\", \"\").strip()\n",
    "                    metric_score = lst[1].replace(\"\\n\", \"\").strip()\n",
    "                    metrics_dict[metric_name] = metric_score\n",
    "                    metrics_dict[\"metrics_code\"] = metric_code\n",
    "           \n",
    "    df = convert_mi_metrics_to_dataframe(all_metrics_list)        \n",
    "    return df         \n",
    "                \n",
    "        \n",
    "folder_path = \"raw_*.txt\"\n",
    "raw_df_lst = [] \n",
    "template_metrics_dict = {} \n",
    "for file_name in glob.glob(folder_path):\n",
    "    df = create_raw_dataframe(file_name,template_metrics_dict)\n",
    "    raw_df_lst.append(df)\n",
    "  \n",
    "raw_final_df = pd.concat(raw_df_lst) "
   ]
  },
  {
   "cell_type": "code",
   "execution_count": 211,
   "id": "d27f8e20",
   "metadata": {},
   "outputs": [
    {
     "data": {
      "text/plain": [
       "0    Thu Sep 1 00:58:22 2016\n",
       "Name: release_date, dtype: object"
      ]
     },
     "execution_count": 211,
     "metadata": {},
     "output_type": "execute_result"
    }
   ],
   "source": [
    "raw_final_df[\"release_date\"].head(1)"
   ]
  },
  {
   "cell_type": "code",
   "execution_count": 210,
   "id": "816c7f4f",
   "metadata": {},
   "outputs": [
    {
     "data": {
      "text/plain": [
       "datetime.datetime(2018, 6, 29, 8, 15, 27, 243860)"
      ]
     },
     "execution_count": 210,
     "metadata": {},
     "output_type": "execute_result"
    }
   ],
   "source": [
    "import datetime\n",
    "from datetime import date\n",
    "\n",
    "date_time_str = '2018-06-29 08:15:27.243860'\n",
    "date_time_obj = datetime.datetime.strptime(date_time_str, '%Y-%m-%d %H:%M:%S.%f')\n",
    "date_time_obj"
   ]
  },
  {
   "cell_type": "code",
   "execution_count": 235,
   "id": "9f282691",
   "metadata": {},
   "outputs": [
    {
     "name": "stdout",
     "output_type": "stream",
     "text": [
      "<class 'pandas.core.frame.DataFrame'>\n",
      "DatetimeIndex: 257823 entries, 2016-09-01 00:58:22 to 2020-01-14 09:05:04\n",
      "Data columns (total 14 columns):\n",
      " #   Column           Non-Null Count   Dtype \n",
      "---  ------           --------------   ----- \n",
      " 0   parent_file      257823 non-null  object\n",
      " 1   release_date     257823 non-null  object\n",
      " 2   version_name     257823 non-null  object\n",
      " 3   LOC              257823 non-null  object\n",
      " 4   metrics_code     257823 non-null  object\n",
      " 5   LLOC             257823 non-null  object\n",
      " 6   SLOC             257823 non-null  object\n",
      " 7   Comments         257823 non-null  object\n",
      " 8   Single comments  257823 non-null  object\n",
      " 9   Multi            257823 non-null  object\n",
      " 10  Blank            257823 non-null  object\n",
      " 11  (C % L)          257823 non-null  object\n",
      " 12  (C % S)          257823 non-null  object\n",
      " 13  (C + M % L)      257823 non-null  object\n",
      "dtypes: object(14)\n",
      "memory usage: 29.5+ MB\n"
     ]
    }
   ],
   "source": [
    "# convert the release date to datetime\n",
    "raw_final_df['date_time'] = pd.to_datetime(raw_final_df[\"release_date\"], format='%a %b %d %H:%M:%S %Y')\n",
    "raw_final_df.set_index('date_time', inplace=True)\n",
    "raw_final_df.info()"
   ]
  },
  {
   "cell_type": "code",
   "execution_count": 236,
   "id": "2f5e4615",
   "metadata": {},
   "outputs": [],
   "source": [
    "save_data_to_file(raw_final_df, \"raw_metrics_datadataset.csv\")"
   ]
  },
  {
   "cell_type": "markdown",
   "id": "72c4da39",
   "metadata": {},
   "source": [
    "## Generate Halstead complexity metrics data "
   ]
  },
  {
   "cell_type": "code",
   "execution_count": 139,
   "id": "68b3d574",
   "metadata": {},
   "outputs": [],
   "source": [
    "def create_hal_dataframe(file_name,template_metrics_dict):\n",
    "    \n",
    "    release_version_date = get_release_version_date(file_name)\n",
    "    version_name =  get_release_version_name(file_name)\n",
    "    cnt = 0 \n",
    "    metric_code = \"Halstead complexity metrics\"\n",
    "    all_metrics_list = [] \n",
    "    FIRST = True\n",
    "    \n",
    "    with open(file_name, 'r', encoding=\"utf-8\") as f:\n",
    "        for line in f: \n",
    "            if \"../\" in line:\n",
    "                if FIRST: \n",
    "                    metrics_dict = {}\n",
    "                    FIRST = False\n",
    "                else:     \n",
    "                    all_metrics_list.append(metrics_dict)\n",
    "                    metrics_dict = {}\n",
    "                line = strip_ansi(line).strip()\n",
    "                parent_file = line.split(\"-\")[0]\n",
    "                metrics_dict[\"parent_file\"] = parent_file.split(\"/\")[-1]\n",
    "                metrics_dict[\"release_date\"] = release_version_date\n",
    "                metrics_dict[\"version_name\"] = version_name \n",
    "            else: \n",
    "                lst = line.split(\":\")\n",
    "                metric_name = lst[0].replace(\"\\n\", \"\").strip()\n",
    "                metric_score = lst[1].replace(\"\\n\", \"\").strip()\n",
    "                metrics_dict[metric_name] = metric_score\n",
    "                \n",
    "        \n",
    "    df = convert_mi_metrics_to_dataframe(all_metrics_list)        \n",
    "    return df  \n",
    "    "
   ]
  },
  {
   "cell_type": "code",
   "execution_count": 183,
   "id": "1b65c1f8",
   "metadata": {},
   "outputs": [],
   "source": [
    "folder_path = \"hal_*.txt\"\n",
    "hal_df_lst = [] \n",
    "template_metrics_dict = {} \n",
    "for file_name in glob.glob(folder_path):\n",
    "    df = create_hal_dataframe(file_name,template_metrics_dict)\n",
    "    raw_df_lst.append(df)\n",
    "    \n",
    "    \n",
    "raw_final_df = pd.concat(raw_df_lst) \n"
   ]
  },
  {
   "cell_type": "code",
   "execution_count": 186,
   "id": "b7a9c888",
   "metadata": {},
   "outputs": [
    {
     "name": "stdout",
     "output_type": "stream",
     "text": [
      "<class 'pandas.core.frame.DataFrame'>\n",
      "Int64Index: 232359 entries, 0 to 3182\n",
      "Data columns (total 15 columns):\n",
      " #   Column             Non-Null Count   Dtype \n",
      "---  ------             --------------   ----- \n",
      " 0   parent_file        232359 non-null  object\n",
      " 1   release_date       232359 non-null  object\n",
      " 2   version_name       232359 non-null  object\n",
      " 3   h1                 232359 non-null  object\n",
      " 4   h2                 232359 non-null  object\n",
      " 5   N1                 232359 non-null  object\n",
      " 6   N2                 232359 non-null  object\n",
      " 7   vocabulary         232359 non-null  object\n",
      " 8   length             232359 non-null  object\n",
      " 9   calculated_length  232359 non-null  object\n",
      " 10  volume             232359 non-null  object\n",
      " 11  difficulty         232359 non-null  object\n",
      " 12  effort             232359 non-null  object\n",
      " 13  time               232359 non-null  object\n",
      " 14  bugs               232359 non-null  object\n",
      "dtypes: object(15)\n",
      "memory usage: 28.4+ MB\n"
     ]
    }
   ],
   "source": [
    "raw_final_df.info()"
   ]
  },
  {
   "cell_type": "code",
   "execution_count": 160,
   "id": "c6271777",
   "metadata": {},
   "outputs": [
    {
     "data": {
      "text/plain": [
       "Index(['parent_file', 'release_date', 'version_name', 'LOC', 'metrics_code',\n",
       "       'LLOC', 'SLOC', 'Comments', 'Single comments', 'Multi', 'Blank',\n",
       "       '(C % L)', '(C % S)', '(C + M % L)'],\n",
       "      dtype='object')"
      ]
     },
     "execution_count": 160,
     "metadata": {},
     "output_type": "execute_result"
    }
   ],
   "source": [
    "raw_final_df.columns"
   ]
  },
  {
   "cell_type": "code",
   "execution_count": null,
   "id": "2aed2665",
   "metadata": {},
   "outputs": [],
   "source": []
  }
 ],
 "metadata": {
  "kernelspec": {
   "display_name": "Python 3 (ipykernel)",
   "language": "python",
   "name": "python3"
  },
  "language_info": {
   "codemirror_mode": {
    "name": "ipython",
    "version": 3
   },
   "file_extension": ".py",
   "mimetype": "text/x-python",
   "name": "python",
   "nbconvert_exporter": "python",
   "pygments_lexer": "ipython3",
   "version": "3.9.14"
  }
 },
 "nbformat": 4,
 "nbformat_minor": 5
}
